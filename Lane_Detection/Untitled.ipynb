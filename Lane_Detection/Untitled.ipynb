{
 "cells": [
  {
   "cell_type": "code",
   "execution_count": 1,
   "id": "34f521e2",
   "metadata": {},
   "outputs": [],
   "source": [
    "from PIL import Image\n",
    "import glob\n",
    "img = Image.open('test_ours/test1.jpg')\n",
    "img_resize = img.resize((1280,720))\n",
    "img_resize.save('test_ours/test1.jpg')"
   ]
  },
  {
   "cell_type": "code",
   "execution_count": 8,
   "id": "d2b971fd",
   "metadata": {},
   "outputs": [],
   "source": [
    "from PIL import Image\n",
    "import glob\n",
    "img = Image.open('test_ours/test_2.png')\n",
    "img_resize = img.resize((500, 500))\n",
    "img_resize.save('test_ours/*.png')"
   ]
  },
  {
   "cell_type": "code",
   "execution_count": 9,
   "id": "9b2603a4",
   "metadata": {},
   "outputs": [],
   "source": [
    "from PIL import Image\n",
    "import glob\n",
    "img = Image.open('test_ours/test_3.png')\n",
    "img_resize = img.resize((500, 500))\n",
    "img_resize.save('test_ours/*.png')"
   ]
  },
  {
   "cell_type": "code",
   "execution_count": 11,
   "id": "240aabf3",
   "metadata": {},
   "outputs": [],
   "source": [
    "from PIL import Image\n",
    "import glob\n",
    "img = Image.open('test_ours/test_8.png')\n",
    "img_resize = img.resize((500, 500))\n",
    "img_resize.save('test_ours/test_8.png')"
   ]
  },
  {
   "cell_type": "code",
   "execution_count": null,
   "id": "823a856b",
   "metadata": {},
   "outputs": [],
   "source": []
  }
 ],
 "metadata": {
  "kernelspec": {
   "display_name": "project_cv",
   "language": "python",
   "name": "project_cv"
  },
  "language_info": {
   "codemirror_mode": {
    "name": "ipython",
    "version": 3
   },
   "file_extension": ".py",
   "mimetype": "text/x-python",
   "name": "python",
   "nbconvert_exporter": "python",
   "pygments_lexer": "ipython3",
   "version": "3.8.13"
  }
 },
 "nbformat": 4,
 "nbformat_minor": 5
}
